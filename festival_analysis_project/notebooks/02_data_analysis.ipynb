{
 "cells": [
  {
   "cell_type": "code",
   "execution_count": null,
   "metadata": {},
   "outputs": [],
   "source": [
    "# 02_data_analysis.ipynb\n",
    "\n",
    "# Importar bibliotecas necesarias\n",
    "import pandas as pd\n",
    "import matplotlib.pyplot as plt\n",
    "import seaborn as sns\n",
    "\n",
    "# Cargar los datos recolectados\n",
    "festival_data = pd.read_csv('../data/festival_data_raw.csv')\n",
    "\n",
    "# Realizar análisis: distribución de artistas por año\n",
    "plt.figure(figsize=(10,6))\n",
    "sns.countplot(data=festival_data, x='year', hue='festival', palette='Set2')\n",
    "plt.title('Número de Artistas por Año y Festival')\n",
    "plt.xlabel('Año')\n",
    "plt.ylabel('Número de Artistas')\n",
    "plt.xticks(rotation=45)\n",
    "plt.tight_layout()\n",
    "plt.show()\n",
    "\n",
    "# Análisis de los festivales más populares\n",
    "festival_counts = festival_data['festival'].value_counts()\n",
    "print(festival_counts)\n"
   ]
  }
 ],
 "metadata": {
  "kernelspec": {
   "display_name": "venv",
   "language": "python",
   "name": "python3"
  },
  "language_info": {
   "name": "python",
   "version": "3.12.1"
  }
 },
 "nbformat": 4,
 "nbformat_minor": 2
}
