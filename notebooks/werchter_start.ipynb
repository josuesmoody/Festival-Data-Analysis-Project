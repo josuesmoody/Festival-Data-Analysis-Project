{
 "cells": [
  {
   "cell_type": "markdown",
   "metadata": {},
   "source": [
    "# Torhout-Werchter\n",
    "\n",
    "This notebook will guide you through your first scrape for the project. It will download all artists that were on [(Torhout or) Werchter](https://www.rockwerchter.be/en/history)."
   ]
  },
  {
   "cell_type": "code",
   "execution_count": 9,
   "metadata": {},
   "outputs": [],
   "source": [
    "# ! pip install requests\n",
    "# ! pip install BeautifulSoup4\n",
    "# ! pip install selenium"
   ]
  },
  {
   "cell_type": "code",
   "execution_count": 10,
   "metadata": {},
   "outputs": [],
   "source": [
    "import requests\n",
    "from bs4 import BeautifulSoup\n",
    "import re\n",
    "import json"
   ]
  },
  {
   "cell_type": "markdown",
   "metadata": {},
   "source": [
    "Try first without using selenium. On the URL given above you'll see a lot of festival posters (one for every year). Download all the URL's they link to.\n",
    "\n",
    "![](files/2024-08-30-09-41-04.png)\n",
    "\n",
    "You might think that you can generate these easily, and up to a point you are right. But back in the nineties \"Werchter\" was \"Torhout Werchter\", the same festival at two locations. So the URL's for before 1998 are different."
   ]
  },
  {
   "cell_type": "code",
   "execution_count": 11,
   "metadata": {},
   "outputs": [],
   "source": [
    "BASE_URL = \"https://www.rockwerchter.be/en/history\"\n"
   ]
  },
  {
   "cell_type": "markdown",
   "metadata": {},
   "source": [
    "This actually works. This could turn out to be as easy as finding an amp for your air guitar!\n",
    "\n",
    "Store all URL's in a list.\n",
    "\n",
    "(And I know you like to use short variable names, we all do, but we'll be using this list for a lot of code cells to come so make sure it's long enough to actually mean something.)"
   ]
  },
  {
   "cell_type": "code",
   "execution_count": null,
   "metadata": {},
   "outputs": [
    {
     "name": "stdout",
     "output_type": "stream",
     "text": [
      "['https://www.rockwerchter.be/en/history/rock-werchter-2024', 'https://www.rockwerchter.be/en/history/rock-werchter-2023', 'https://www.rockwerchter.be/en/history/rock-werchter-2022', 'https://www.rockwerchter.be/en/history/rock-werchter-2019', 'https://www.rockwerchter.be/en/history/rock-werchter-2018', 'https://www.rockwerchter.be/en/history/rock-werchter-2017', 'https://www.rockwerchter.be/en/history/rock-werchter-2016', 'https://www.rockwerchter.be/en/history/rock-werchter-2015', 'https://www.rockwerchter.be/en/history/rock-werchter-2014', 'https://www.rockwerchter.be/en/history/rock-werchter-2013', 'https://www.rockwerchter.be/en/history/rock-werchter-2012', 'https://www.rockwerchter.be/en/history/rock-werchter-2011', 'https://www.rockwerchter.be/en/history/rock-werchter-2010', 'https://www.rockwerchter.be/en/history/rock-werchter-2009', 'https://www.rockwerchter.be/en/history/rock-werchter-2008', 'https://www.rockwerchter.be/en/history/rock-werchter-2007', 'https://www.rockwerchter.be/en/history/rock-werchter-2006', 'https://www.rockwerchter.be/en/history/rock-werchter-2005', 'https://www.rockwerchter.be/en/history/rock-werchter-2004', 'https://www.rockwerchter.be/en/history/rock-werchter-2003', 'https://www.rockwerchter.be/en/history/rock-werchter-2002', 'https://www.rockwerchter.be/en/history/rock-werchter-2001', 'https://www.rockwerchter.be/en/history/rock-werchter-2000', 'https://www.rockwerchter.be/en/history/rock-werchter-1999']\n"
     ]
    }
   ],
   "source": [
    "def get_year_urls(base_url):\n",
    "    response = requests.get(base_url)\n",
    "    soup = BeautifulSoup(response.text, 'html.parser')\n",
    "\n",
    "    # Find the annual links\n",
    "    links = soup.find_all('a', href=re.compile(r'/en/history/rock-werchter-\\d{4}'))\n",
    "    year_urls = [f\"https://www.rockwerchter.be{link['href']}\" for link in links if 'href' in link.attrs]\n",
    "    return year_urls\n",
    "\n",
    "year_urls = get_year_urls(BASE_URL)\n",
    "print(year_urls)  # Confirm that URLs are being fetched correctly\n"
   ]
  },
  {
   "cell_type": "markdown",
   "metadata": {},
   "source": [
    "With this list we can visit each and every one of these pages to download the list of bands that played there. Best way to do this is using a function because you'll need to run it once for every item in the list.\n",
    "\n",
    "Write you function that has the url as parameter and returns a list of all the bands that played there. This means not storing any of the information for which day they played on, but ...\n",
    "\n",
    "![](files/2024-08-30-10-02-55.png)\n",
    "\n",
    "That information is not always available. Which basically means that if a \":\" is present in the text you need to ignore the text before it and split the text behind it based in \",\". That would be a nice question for first year students with a little if-statement and a split. But with regex we can do this in a single line.\n",
    "\n",
    "Your regex should also fix:\n",
    "- The space before the bandnames. The band playing in 2023 is called \"Stormzy\", not \" Stormzy\".\n",
    "- The non-breaking spaces you'll find in the 2018 '\\xa0Angèle' and '\\xa0Angus & Julia Stone'\n",
    "\n",
    "Test using the URL for 2019 (includes dates), 2018 (no dates) and 2017 (no bands).\n"
   ]
  },
  {
   "cell_type": "code",
   "execution_count": null,
   "metadata": {},
   "outputs": [],
   "source": [
    "def scrape_year_lineup(url):\n",
    "    response = requests.get(url)\n",
    "    soup = BeautifulSoup(response.text, 'html.parser')\n",
    "\n",
    "    # Find the div that contains the lineup information\n",
    "    lineup_div = soup.find('div', {'data-component': 'oembed/oembed'})\n",
    "    bands = []\n",
    "\n",
    "    if lineup_div:\n",
    "        # Extract text and clean data\n",
    "        paragraphs = lineup_div.find_all('p')\n",
    "        for paragraph in paragraphs:\n",
    "            text = paragraph.get_text()\n",
    "            # Ignore the date (before \":\") and split by commas\n",
    "            if ':' in text:\n",
    "                bands_text = text.split(':', 1)[1]  # Get the part after \":\"\n",
    "                bands.extend([band.strip() for band in bands_text.split(',')])\n",
    "    return bands\n",
    "\n",
    "\n"
   ]
  },
  {
   "cell_type": "markdown",
   "metadata": {},
   "source": [
    "When done solving the basic problems, look at the line-up for [TW1987](https://www.rockwerchter.be/en/history/rock-torhout-werchter-1987). It contains a fun fact which although being very interesting, messes up our scraping...\n",
    "\n",
    "![](files/2024-08-30-10-59-25.png)\n",
    "\n",
    "Alter the function to get rid of the fun facts.\n",
    "\n",
    "If you're happy with the function, call it for every URL you have. Save them in a dictionary (the key being the year). If you don't have any bands for that year, the key shouldn't be created."
   ]
  },
  {
   "cell_type": "code",
   "execution_count": null,
   "metadata": {},
   "outputs": [
    {
     "name": "stdout",
     "output_type": "stream",
     "text": [
      "Scraping lineup for 2024...\n",
      "Scraping lineup for 2023...\n",
      "Scraping lineup for 2022...\n",
      "Scraping lineup for 2019...\n",
      "Scraping lineup for 2018...\n",
      "Scraping lineup for 2017...\n",
      "Scraping lineup for 2016...\n",
      "Scraping lineup for 2015...\n",
      "Scraping lineup for 2014...\n",
      "Scraping lineup for 2013...\n",
      "Scraping lineup for 2012...\n",
      "Scraping lineup for 2011...\n",
      "Scraping lineup for 2010...\n",
      "Scraping lineup for 2009...\n",
      "Scraping lineup for 2008...\n",
      "Scraping lineup for 2007...\n",
      "Scraping lineup for 2006...\n",
      "Scraping lineup for 2005...\n",
      "Scraping lineup for 2004...\n",
      "Scraping lineup for 2003...\n",
      "Scraping lineup for 2002...\n",
      "Scraping lineup for 2001...\n",
      "Scraping lineup for 2000...\n",
      "Scraping lineup for 1999...\n",
      "Datos guardados en 'werchter_data.json'\n"
     ]
    }
   ],
   "source": [
    "all_lineups = {}\n",
    "\n",
    "for url in year_urls:\n",
    "    year_match = re.search(r'rock-werchter-(\\d{4})', url)\n",
    "    if year_match:\n",
    "        year = year_match.group(1)\n",
    "        print(f\"Scraping lineup for {year}...\")\n",
    "        bands = scrape_year_lineup(url)\n",
    "        if bands:\n",
    "            all_lineups[year] = bands\n",
    "\n",
    "# Save the results to a JSON file\n",
    "with open('./data/werchter_data.json', 'w') as f:\n",
    "    json.dump(all_lineups, f, indent=4)\n",
    "\n",
    "print(\"Data saved in 'data/werchter_data.json'\")\n",
    "\n"
   ]
  },
  {
   "cell_type": "markdown",
   "metadata": {},
   "source": [
    "To finish up, print all of them!\n",
    "\n",
    "This should yield something like:\n",
    "\n",
    "![](files/2024-09-27-10-28-02.png)"
   ]
  },
  {
   "cell_type": "code",
   "execution_count": null,
   "metadata": {},
   "outputs": [
    {
     "name": "stdout",
     "output_type": "stream",
     "text": [
      "Año: 2024\n",
      "Bandas: ['Lenny Kravitz', 'Greta Van Fleet', 'Dropkick Murphys', 'Parkway Drive', 'The Hives', 'The Gaslight Anthem', 'STONE', \"Jane's Addiction\", 'PJ Harvey', 'Black Pumas', 'MEUTE', 'Eefje de Visser', 'Jalen Ngonda', 'The Streets', 'Nathaniel Rateliff & The Night Sweats', 'Slowdive', 'Johnny Marr', 'Bombay Bicycle Club', 'The Cat Empire', 'The Clockworks', 'Skindred', 'DEHD', 'Alice Merton', 'Kingfishr', 'PEUK', 'Måneskin', 'Sum 4', 'Yungblud', 'Tom Odell', 'Simple Plan', 'The Beaches', 'Frank Carter & The Rattlesnakes', 'Snow Patrol', 'dEUS', 'Tom Morello', 'Gary Clark Jr.', 'Sleaford Mods', 'Loverman', 'James Arthur', 'Archive', 'Declan McKenna', 'Glints', 'Kneecap', 'Yard Act', 'Against The Current', 'Neck Deep', 'The Armed', 'Hot Muligan', 'The Rumjacks', 'Sprints', 'Dua Lipa', 'Khruangbin', 'Avril Lavigne', 'Nothing But Thieves', 'The Kooks', 'Brihang', 'Equal Idiots', 'Róisín Murphy', 'The Blaze', 'Janelle Monáe', 'Jessie Ware', 'The Last Dinner Party', 'No Guidnce', 'Benjamin Clementine', 'Marc Rebillet', 'Arlo Parks', 'Cian Ducrot', 'J. Bernardt', 'Noname', 'Prins S. en De Geit', 'Palaye Royale', 'Bob Vylan', 'Psychedelic Porn Crumpts', 'Deadletter', 'The Southern River Band', 'Foo Fighters', 'Royal Blood', 'Pretenders', 'IDLES', 'The Breeders', 'Brutus', 'BLUAI', 'Jungle', 'Michael Kiwanuka', 'Sampha', 'Froukje', 'Whispering Sons', 'Isaac Roux', 'Parcels', 'Zara Larsson', 'Loyle Carner', 'Lauren Spencer Smith', 'Lawrence', 'Matt Maltese', 'High Vis', 'The Snuts', 'Soccer Mommy', 'Scowl', 'Hotwax', 'ise']\n",
      "\n",
      "Año: 2023\n",
      "Bandas: ['Mumford & Sons', 'Stormzy', 'Sam Fender', 'The 1975', 'Froukje', 'Zwangere Guy', 'Compact Disk Dummies', 'Iggy Pop', 'Charlotte de Witte', 'Warhaus', 'King Princess', 'Anna Calvi', 'Weyes Blood', 'Röyksopp', 'Aurora', 'Raye', 'Ashnikko', 'Gayle', 'Holly Humberstone', 'Picture This', 'The Reytons', 'Lil Lotus', 'Militarie Gun', 'Body Type', 'The Mary Wallopers', 'Red Hot Chili Peppers', 'Liam Gallagher', 'The Black Keys', 'Kasabian', 'The Black Box Revelation', 'The Interrupters', 'The Haunted Youth', 'Editors', 'Ben Howard', 'Tamino', \"Bear's Den\", 'Spoon', 'Cavetown', 'Wardruna', 'Fever Ray', 'The HU', 'Viagra Boys', 'Squid', 'Berre', 'SONS', 'PUP', 'CMAT', 'Hot Milk', 'Kelsy Karter & The Heroines', 'Hideous', 'Muse', 'Oscar And The Wolf', 'Machine Gun Kelly', 'Paolo Nutini', 'Interpol', 'The Opposites', 'XINK', 'Fred again..', 'Xavier Rudd', 'Sigur Rós', 'blackwave.', 'City and Colour', 'Vintage Trouble', 'Dean Lewis', 'Adekunle Gold', 'Dope Lemon', 'Sofi Tukker', 'Mimi Webb', 'Danielle Ponder', 'The Murder Capital', 'Touché Amoré', 'Just Mustard', 'Stone', 'Dead Poet Society', 'Mayorga', 'Arctic Monkeys', 'Queens of the Stone Age', 'Lil Nas X', 'The Lumineers', 'Demot Kennedy', 'Inhaler', 'The Driver Era', 'Rosalía', 'Christine and the Queens', 'Puscifer', 'Gabriels', 'Amenra', 'The Teskey Brothers', 'RÜFÜS DU SOL', 'Jacob Collier', 'J.I.D', 'Portland', 'MEROL', 'Pip Millett', 'Lovejoy', 'Billy Nomates', 'Baby Queen', 'Nova Twins', 'Kid Kapichi', 'Ethan Bortnick']\n",
      "\n",
      "Año: 2022\n",
      "Bandas: ['Pearl Jam', 'The War on Drugs', 'Pixies', \"Rag'n'Bone Man\", 'HAIM', 'Fontaines D.C.', 'Gang of Youths', 'The Kid LAROI', 'Beck', 'First Aid Kit', 'Carly Rae Jepsen', 'Airbourne', 'The Dead South', 'Lianne La Havas', 'Black Pumas', 'RY X', 'Cigarettes After Sex', 'Altın Gün', 'Lady Blackbird', 'White Reaper', 'Glints', 'Reignwolf', 'Yumi Zouma', 'Owenn', 'ILA', 'Metallica', 'Turnstile', 'Lewis Capaldi', 'Bazart', 'IDLES', 'Miles Kane', 'Sum 41', 'Moderat', 'alt-J', 'Inhaler', 'Charles', 'STIKSTOF', 'Lous and the Yakuza', 'girl in red', 'Parcels', 'JC Stewart', 'SONS', 'Sans Soucis', 'The Chats', 'The Last Internationale', 'The Haunted Youth', 'Waterparks', 'Tin Fingers', 'MOLYBARON', 'Imagine Dragons', 'Twenty One Pilots', 'Anne-Marie', 'Yungblud', 'Måneskin', 'Nothing But Thieves', 'Goldband', 'Jamie xx', 'Jorja Smith', 'LP', 'Phoebe Bridgers', 'Sabrina Claudio', 'Marcus King', 'BICEP LIVE', 'Leon Bridges', 'Charlotte Adigéry & Bolis Pupul', 'Alec Benjamin', 'Yong Yello', 'Pitou', 'grandson', 'KennyHoopla', 'Mother Mother', 'The Faim', 'Sloper', 'Dea Matrona', 'Red Hot Chili Peppers', 'The Killers', 'Royal Blood', 'Balthazar', 'Keane', 'RHEA', 'Joost', 'Polo G', 'Disclosure', 'Michael Kiwanuka', 'Kacey Musgraves', 'Big Thief', 'FEVER 333', 'MEUTE', 'Lost Frequencies Live', 'Jimmy Eat World', 'Modest Mouse', 'Emma Bale', 'High Hi', 'Jehnny Beth', 'Snail Mail', 'The Record Company', 'Dry Cleaning', 'Bartees Strange', 'Peach Tree Rascals']\n",
      "\n",
      "Año: 2019\n",
      "Bandas: ['P!NK', 'Bastille', 'Elbow', 'Paul Kalkbrenner', 'Brockhampton', 'Charlotte Gainsbourg', 'Richard Ashcroft', 'Ólafur Arnalds', 'Vance Joy', 'Raleigh Ritchie', 'Maribou State', 'Bang Bang Romeo', 'KidCutUp', 'Mogwai', 'Black Box Revelation', 'Zwangere Guy', 'Deaf Havana', 'Miss Angel', 'Palace', 'Geike', 'The Vintage Caravan', 'Georgia', 'Tool', 'The Cure', 'Bring Me The Horizon', 'Kylie', 'Years & Years', 'Weezer', 'Janelle Monáe', 'The 1975', 'Robyn', 'Jungle', 'Khruangbin', 'Nothing But Thieves', 'Tom Misch', 'Snarky Puppy', 'Kurt Vile & The Violators', 'The Twilight Sad', 'Masego', 'Denzel Curry', 'Whispering Sons', 'Our Last Night', 'Foxing', 'SWMRS', 'Yonaka', 'Sea Girls', 'Warhola', 'Mumford & Sons', 'Florence + the Machine', 'Macklemore', 'The Good', 'The Bad & The Queen', 'Bear’s Den', 'Beirut', 'Angèle', 'Tourist LeMC', 'THE BLAZE', 'Two Door Cinema Club', 'Miles Kane', 'Clean Bandit', 'Aurora', 'SYML', 'Strand of Oaks', 'King Princess', 'Portland', 'Barns Courtney', 'All Them Witches', 'The Slow Readers Club', 'Alice Phoebe Lou', 'Donny Benét', 'The Murder Capital', 'John J. Presley', 'IBE', 'Muse', 'Greta Van Fleet', 'Balthazar', 'New Order', 'Underworld', 'Parkway Drive', 'Mac DeMarco', 'Rosalía', 'Tamino', 'RY X', '$uicideboy$', 'Yungblud', 'Lewis Capaldi', 'De Staat', 'Dean Lewis', 'Mahalia', 'Lizzo', 'Grace Carter', 'Zeal & Ardor', 'Sports Team', 'Amyl and The Sniffers', 'Ibibio Sound Machine', 'Laurel', 'Black Honey', 'Didirri', 'Sophia Eris (Lizzo DJ)']\n",
      "\n"
     ]
    }
   ],
   "source": [
    "for year, bands in all_lineups.items():\n",
    "    print(f\"Year: {year}\")\n",
    "    print(f\"Bands: {bands}\")\n",
    "    print(\"\")\n"
   ]
  },
  {
   "cell_type": "markdown",
   "metadata": {},
   "source": [
    "Finally, store the dictionary you made in a JSON or CSV-file."
   ]
  },
  {
   "cell_type": "code",
   "execution_count": null,
   "metadata": {},
   "outputs": [
    {
     "name": "stdout",
     "output_type": "stream",
     "text": [
      "Datos guardados en 'data/werchter_data.json'\n"
     ]
    }
   ],
   "source": [
    "with open('./data/werchter_data.json', 'w') as f:\n",
    "    json.dump(all_lineups, f, indent=4)\n",
    "\n",
    "print(\"Data saved in 'data/werchter_data.json'\")\n",
    "\n"
   ]
  },
  {
   "cell_type": "markdown",
   "metadata": {},
   "source": [
    "# Pukkelpop\n",
    "\n",
    "Only Werchter is not enough data. Let's do [Pukkelpop](https://www.pukkelpop.be/nl/geschiedenis) as well!\n",
    "\n",
    "This is up to you! Don't hesitate to scrape other festival's webpages as well. Think of Pinkpop, Graspop, Lowlands, ..."
   ]
  }
 ],
 "metadata": {
  "kernelspec": {
   "display_name": "venv",
   "language": "python",
   "name": "python3"
  },
  "language_info": {
   "codemirror_mode": {
    "name": "ipython",
    "version": 3
   },
   "file_extension": ".py",
   "mimetype": "text/x-python",
   "name": "python",
   "nbconvert_exporter": "python",
   "pygments_lexer": "ipython3",
   "version": "3.11.0"
  }
 },
 "nbformat": 4,
 "nbformat_minor": 2
}
